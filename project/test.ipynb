{
 "cells": [
  {
   "cell_type": "code",
   "execution_count": 3,
   "id": "d93fdde4-85f5-4e36-ab5a-a2bdac7d229b",
   "metadata": {},
   "outputs": [
    {
     "name": "stdout",
     "output_type": "stream",
     "text": [
      "(5, 2)\n",
      "  Ticker Symbol            Last Updated\n",
      "0          ASML  18:08:16 - 30/01/2025 \n",
      "1           DSM  18:08:16 - 30/01/2025 \n",
      "2          IMCD  18:08:16 - 30/01/2025 \n",
      "3           KPN  18:08:16 - 30/01/2025 \n",
      "4          RELX  18:08:16 - 30/01/2025 \n"
     ]
    }
   ],
   "source": [
    "import pandas as pd\n",
    "\n",
    "df = pd.read_csv(\"aex_tickers.csv\")\n",
    "print(df.shape)  # How many rows?\n",
    "print(df.head())  # Preview first few rows\n"
   ]
  },
  {
   "cell_type": "code",
   "execution_count": 5,
   "id": "85845ef5-273b-49a4-89b7-5608553e3146",
   "metadata": {},
   "outputs": [
    {
     "name": "stdout",
     "output_type": "stream",
     "text": [
      "(2, 4)\n",
      "   ASML  1998-07-20  2025-01-30  18:15:28 - 2025-01-30\n",
      "0  IMCD  2014-06-27  2025-01-30  18:15:30 - 2025-01-30\n",
      "1   KPN  1995-03-27  2025-01-30  18:15:30 - 2025-01-30\n"
     ]
    }
   ],
   "source": [
    "df = pd.read_csv(\"stock_download_log.csv\")\n",
    "print(df.shape)  # How many rows?\n",
    "print(df.head())  # Preview first few rows\n"
   ]
  },
  {
   "cell_type": "code",
   "execution_count": null,
   "id": "a2b217af-d620-4f09-a28a-12c387ae5d49",
   "metadata": {},
   "outputs": [],
   "source": []
  }
 ],
 "metadata": {
  "kernelspec": {
   "display_name": "Python 3 (ipykernel)",
   "language": "python",
   "name": "python3"
  },
  "language_info": {
   "codemirror_mode": {
    "name": "ipython",
    "version": 3
   },
   "file_extension": ".py",
   "mimetype": "text/x-python",
   "name": "python",
   "nbconvert_exporter": "python",
   "pygments_lexer": "ipython3",
   "version": "3.12.4"
  }
 },
 "nbformat": 4,
 "nbformat_minor": 5
}
